{
 "cells": [
  {
   "cell_type": "code",
   "execution_count": null,
   "id": "b4f00ff7",
   "metadata": {},
   "outputs": [],
   "source": [
    "import matplotlib.pyplot as plt\n",
    "import numpy as np\n",
    "import pandas as pd\n",
    "\n",
    "import autoden as ad\n",
    "\n",
    "%load_ext autoreload\n",
    "%autoreload 2\n",
    "\n",
    "%matplotlib widget"
   ]
  },
  {
   "cell_type": "code",
   "execution_count": null,
   "id": "ddd10b08",
   "metadata": {},
   "outputs": [],
   "source": [
    "# import h5py\n",
    "\n",
    "# with h5py.File(\n",
    "#     \"/data/projects/computational_imaging/ghost_imaging/datasets/2022-09-09_ID19_IHMI1497_XRF-GI/gi_W250mask_CuFeUnknown_3wires/gi_W250mask_CuFeUnknown_3wires_0002/gi_W250mask_CuFeUnknown_3wires_0002.h5\"\n",
    "# ) as h5f:\n",
    "#     data_xrf_h5 = h5f[\"7.1/instrument/fxid19_det0/data\"]\n",
    "#     if isinstance(data_xrf_h5, h5py.Dataset):\n",
    "#         data_xrf: NDArray = data_xrf_h5[()]\n",
    "#     else:\n",
    "#         raise ValueError(\"Not a dataset!\")\n",
    "\n",
    "# print(data_xrf.shape)\n",
    "# en_keV = np.round(np.arange(data_xrf.shape[-1]) * 0.00501 - 0.02, decimals=3)\n",
    "\n",
    "# df = pd.DataFrame(data_xrf, columns=en_keV)\n",
    "# df.to_csv(\"05_xrf_spectra.csv\")"
   ]
  },
  {
   "cell_type": "code",
   "execution_count": null,
   "id": "362a95d7",
   "metadata": {},
   "outputs": [],
   "source": [
    "xrf_data = pd.read_csv(\"05_xrf_spectra.csv\")\n",
    "\n",
    "energies_keV = np.array([float(e) for e in xrf_data.columns[1:-1]])\n",
    "counts = xrf_data.to_numpy()[:, 1:-1]\n",
    "\n",
    "fig, axs = plt.subplots(1, 1, figsize=(8, 3))\n",
    "axs.plot(energies_keV, counts[0], label=\"Spectrum #1\")\n",
    "axs.plot(energies_keV, counts.mean(axis=0), label=\"Mean of spectra\")\n",
    "axs.set_xlim(energies_keV[0], energies_keV[-1])\n",
    "axs.set_xlabel(\"keV\")\n",
    "axs.set_ylabel(\"Photon counts\")\n",
    "axs.grid()\n",
    "axs.legend()\n",
    "fig.tight_layout()"
   ]
  },
  {
   "cell_type": "code",
   "execution_count": null,
   "id": "c5c9afb0",
   "metadata": {},
   "outputs": [],
   "source": [
    "model = ad.NetworkParamsDnCNN(n_dims=1, n_features=4, n_layers=6).get_model()\n",
    "\n",
    "n2n = ad.N2N(model=model, reg_val=None)\n",
    "n2n_data = n2n.prepare_data(counts[:4])\n",
    "_ = n2n.train(*n2n_data, epochs=10_000, lower_limit=0.0, learning_rate=1e-2, restarts=1)\n",
    "pred_counts = n2n.infer(n2n_data[0])"
   ]
  },
  {
   "cell_type": "code",
   "execution_count": null,
   "id": "b97ad890",
   "metadata": {},
   "outputs": [],
   "source": [
    "fig, axs = plt.subplots(1, 1, figsize=(8, 3))\n",
    "axs.plot(energies_keV, counts[0], \".\", label=\"Spectrum #1\")\n",
    "axs.plot(energies_keV, counts.mean(axis=0), label=\"Mean of spectra\")\n",
    "axs.plot(energies_keV, pred_counts, label=\"Predicted spectrum\")\n",
    "axs.set_xlim(energies_keV[0], energies_keV[-1])\n",
    "axs.set_xlabel(\"keV\")\n",
    "axs.set_ylabel(\"Photon counts\")\n",
    "axs.grid()\n",
    "axs.legend()\n",
    "fig.tight_layout()"
   ]
  },
  {
   "cell_type": "code",
   "execution_count": null,
   "id": "5a1f9cb3",
   "metadata": {},
   "outputs": [],
   "source": [
    "ranges: tuple[tuple[float, float], ...] = ((2.5, 7.5), (7.75, 9.75), (15.0, 18.5), (15.2, 16.25))\n",
    "\n",
    "fig, axs = plt.subplots(len(ranges), 1, figsize=(8, len(ranges) * 2.5))\n",
    "for ii, (e_s, e_e) in enumerate(ranges):\n",
    "    bin_s = np.abs(energies_keV - e_s).argmin()\n",
    "    bin_e = np.abs(energies_keV - e_e).argmin()\n",
    "    axs[ii].plot(energies_keV[bin_s:bin_e], counts[0, bin_s:bin_e], \".\", label=\"Spectrum #1\")\n",
    "    axs[ii].plot(energies_keV[bin_s:bin_e], counts[:, bin_s:bin_e].mean(axis=0), label=\"Mean of spectra\")\n",
    "    axs[ii].plot(energies_keV[bin_s:bin_e], pred_counts[bin_s:bin_e], label=\"Predicted spectrum\")\n",
    "    axs[ii].set_xlim(e_s, e_e)\n",
    "    axs[ii].grid()\n",
    "    axs[ii].legend()\n",
    "fig.tight_layout()"
   ]
  }
 ],
 "metadata": {
  "kernelspec": {
   "display_name": "tomography",
   "language": "python",
   "name": "python3"
  },
  "language_info": {
   "codemirror_mode": {
    "name": "ipython",
    "version": 3
   },
   "file_extension": ".py",
   "mimetype": "text/x-python",
   "name": "python",
   "nbconvert_exporter": "python",
   "pygments_lexer": "ipython3",
   "version": "3.11.9"
  }
 },
 "nbformat": 4,
 "nbformat_minor": 5
}
