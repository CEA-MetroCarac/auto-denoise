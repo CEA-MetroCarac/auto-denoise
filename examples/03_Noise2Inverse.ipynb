{
 "cells": [
  {
   "cell_type": "markdown",
   "metadata": {},
   "source": [
    "This example shows how to implement Noise2Inverse (self-supervised denoising) from [1].\n",
    "\n",
    "- [1] A. A. Hendriksen, D. M. Pelt, and K. J. Batenburg, \"Noise2Inverse: Self-Supervised Deep Convolutional Denoising for\n",
    "    Tomography,\" IEEE Transactions on Computational Imaging, vol. 6, pp. 1320–1335, 2020, doi: 10.1109/TCI.2020.3019647."
   ]
  },
  {
   "cell_type": "code",
   "execution_count": null,
   "metadata": {},
   "outputs": [],
   "source": [
    "import matplotlib.pyplot as plt\n",
    "import numpy as np\n",
    "import skimage.data as skd\n",
    "import skimage.transform as skt\n",
    "from corrct.models import get_vol_geom_from_data, get_vol_geom_from_volume\n",
    "from corrct.processing.post import plot_frcs\n",
    "from corrct.projectors import ProjectorUncorrected\n",
    "from corrct.solvers import FBP, PDHG\n",
    "from corrct.regularizers import Regularizer_TV2D\n",
    "from corrct.testing import add_noise\n",
    "from skimage.metrics import peak_signal_noise_ratio as psnr\n",
    "from skimage.metrics import structural_similarity as ssim\n",
    "\n",
    "import autoden as ad\n",
    "\n",
    "%load_ext autoreload\n",
    "%autoreload 2\n",
    "\n",
    "%matplotlib widget"
   ]
  },
  {
   "cell_type": "code",
   "execution_count": null,
   "metadata": {},
   "outputs": [],
   "source": [
    "print(\"Creating phantom\")\n",
    "phantom = skd.shepp_logan_phantom()\n",
    "phantom = skt.downscale_local_mean(phantom, 4).astype(np.float32)\n",
    "\n",
    "print(\"Creating sinogram\")\n",
    "vol_geom = get_vol_geom_from_volume(phantom)\n",
    "angles_rad = np.deg2rad(np.linspace(start=0, stop=180, num=int((180 * np.pi) // 2), endpoint=False))\n",
    "with ProjectorUncorrected(vol_geom, angles_rad) as prj:\n",
    "    sino_clean = prj.fp(phantom)\n",
    "\n",
    "print(\"Adding noise\")\n",
    "sino_noisy, _, _ = add_noise(sino_clean, num_photons=1, readout_noise_std=2)\n",
    "\n",
    "PIX_TO_INCH = 0.02\n",
    "\n",
    "fig_size = (sino_clean.shape[-1] * 2 * PIX_TO_INCH + 0.75, sino_clean.shape[-2] * PIX_TO_INCH)\n",
    "fig, axes = plt.subplots(1, 2, sharex=True, sharey=True, figsize=fig_size)\n",
    "axes[0].imshow(sino_clean)\n",
    "axes[0].set_title('Clean Sinogram', fontsize=15)\n",
    "axes[1].imshow(sino_noisy)\n",
    "axes[1].set_title('Noisy Sinogram', fontsize=15)\n",
    "for axes in axes:\n",
    "    axes.tick_params(labelsize=13)\n",
    "fig.tight_layout()\n",
    "plt.show(block=False)"
   ]
  },
  {
   "cell_type": "code",
   "execution_count": null,
   "metadata": {},
   "outputs": [],
   "source": [
    "print(\"Creating noisy reconstructions (FBP)\")\n",
    "vol_geom = get_vol_geom_from_data(sino_clean)\n",
    "solver = FBP()\n",
    "with ProjectorUncorrected(vol_geom, angles_rad) as prj:\n",
    "    rec_noisy = solver(prj, sino_noisy)[0]\n",
    "\n",
    "# Splitting sinograms\n",
    "angles_rad_rec = [angles_rad[0::2], angles_rad[1::2]]\n",
    "sinos_noisy_rec = [sino_noisy[0::2], sino_noisy[1::2]]\n",
    "\n",
    "recs_noisy = []\n",
    "for sino, angles in zip(sinos_noisy_rec, angles_rad_rec):\n",
    "    with ProjectorUncorrected(vol_geom, angles) as prj:\n",
    "        recs_noisy.append(solver(prj, sino)[0])\n",
    "\n",
    "recs_noisy_stack = np.stack(recs_noisy, axis=0)"
   ]
  },
  {
   "cell_type": "code",
   "execution_count": null,
   "metadata": {},
   "outputs": [],
   "source": [
    "reg = Regularizer_TV2D(1e1)\n",
    "pdhg = PDHG(regularizer=reg, verbose=True)\n",
    "\n",
    "with ProjectorUncorrected(vol_geom, angles_rad) as prj:\n",
    "    rec_tv = pdhg(prj, sino_noisy, iterations=500)[0]\n",
    "\n",
    "PIX_TO_INCH = 0.04\n",
    "fig_size = (phantom.shape[-1] * 3 * PIX_TO_INCH, phantom.shape[-2] * PIX_TO_INCH + 0.25)\n",
    "fig, axes = plt.subplots(1, 3, sharex=True, sharey=True, figsize=fig_size)\n",
    "axes[0].imshow(phantom)\n",
    "axes[0].set_title(\"Phantom\", fontsize=15)\n",
    "axes[1].imshow(rec_noisy, vmin=0.0, vmax=1.0)\n",
    "axes[1].set_title(\"Noisy reconstruction\", fontsize=15)\n",
    "axes[2].imshow(rec_tv, vmin=0.0, vmax=1.0)\n",
    "axes[2].set_title(\"TV-min reconstruction\", fontsize=15)\n",
    "for axs in axes:\n",
    "    axs.tick_params(labelsize=13)\n",
    "fig.tight_layout()\n",
    "plt.show(block=False)"
   ]
  },
  {
   "cell_type": "code",
   "execution_count": null,
   "metadata": {},
   "outputs": [],
   "source": [
    "EPOCHS = 1024 * 1\n",
    "REG_TV_VAL = 3e-6\n",
    "\n",
    "print(\"Denoising reconstructions with N2N\")\n",
    "net_params = ad.NetworkParamsUNet(n_features=24)\n",
    "denoiser_un = ad.N2N(model=net_params, reg_val=REG_TV_VAL)\n",
    "n2n_data = denoiser_un.prepare_data(recs_noisy_stack)\n",
    "denoiser_un.train(*n2n_data, epochs=EPOCHS)\n",
    "rec_n2i = denoiser_un.infer(n2n_data[0]).mean(0)\n",
    "\n",
    "PIX_TO_INCH = 0.04\n",
    "fig_size = (phantom.shape[-1] * 3 * PIX_TO_INCH, phantom.shape[-2] * PIX_TO_INCH + 0.25)\n",
    "fig, axes = plt.subplots(1, 3, sharex=True, sharey=True, figsize=fig_size)\n",
    "axes[0].imshow(phantom)\n",
    "axes[0].set_title(\"Phantom\", fontsize=15)\n",
    "axes[1].imshow(rec_noisy, vmin=0.0, vmax=1.0)\n",
    "axes[1].set_title(\"Noisy reconstruction\", fontsize=15)\n",
    "axes[2].imshow(rec_n2i, vmin=0.0, vmax=1.0)\n",
    "axes[2].set_title(\"Noise2Inverse reconstruction\", fontsize=15)\n",
    "for axs in axes:\n",
    "    axs.tick_params(labelsize=13)\n",
    "fig.tight_layout()\n",
    "plt.show(block=False)"
   ]
  },
  {
   "cell_type": "code",
   "execution_count": null,
   "metadata": {},
   "outputs": [],
   "source": [
    "all_recs = [rec_noisy, rec_tv, rec_n2i]\n",
    "all_labs = [\"FBP\", \"TV-min\", \"Noise2Inverse\"]\n",
    "\n",
    "print(\"PSNR:\")\n",
    "for rec, lab in zip(all_recs, all_labs):\n",
    "    print(f\"- {lab}: {psnr(phantom, rec, data_range=1.0):.3}\")\n",
    "print(\"SSIM:\")\n",
    "for rec, lab in zip(all_recs, all_labs):\n",
    "    print(f\"- {lab}: {ssim(phantom, rec, data_range=1.0):.3}\")\n",
    "\n",
    "plot_frcs([(phantom, rec) for rec in all_recs], all_labs)"
   ]
  }
 ],
 "metadata": {
  "kernelspec": {
   "display_name": "tomography",
   "language": "python",
   "name": "python3"
  },
  "language_info": {
   "codemirror_mode": {
    "name": "ipython",
    "version": 3
   },
   "file_extension": ".py",
   "mimetype": "text/x-python",
   "name": "python",
   "nbconvert_exporter": "python",
   "pygments_lexer": "ipython3",
   "version": "3.11.9"
  }
 },
 "nbformat": 4,
 "nbformat_minor": 2
}
