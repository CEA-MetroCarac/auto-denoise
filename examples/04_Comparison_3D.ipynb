{
 "cells": [
  {
   "cell_type": "code",
   "execution_count": null,
   "metadata": {},
   "outputs": [],
   "source": [
    "\n",
    "import matplotlib.pyplot as plt\n",
    "import numpy as np\n",
    "import skimage.data as skd\n",
    "import skimage.transform as skt\n",
    "from copy import deepcopy\n",
    "from numpy.typing import NDArray\n",
    "from tqdm.auto import tqdm\n",
    "import autoden as ad\n",
    "\n",
    "\n",
    "%load_ext autoreload\n",
    "%autoreload 2\n",
    "\n",
    "%matplotlib widget"
   ]
  },
  {
   "cell_type": "code",
   "execution_count": null,
   "metadata": {},
   "outputs": [],
   "source": [
    "NUM_IMGS_TRN = 4\n",
    "NUM_IMGS_TST = 2\n",
    "NUM_IMGS_TOT = NUM_IMGS_TRN + NUM_IMGS_TST\n",
    "\n",
    "EPOCHS = 1024\n",
    "REG_TV_VAL = 1e-7\n",
    "\n",
    "vol_orig = skd.cells3d()[:, 1, ...]\n",
    "vol_orig = skt.downscale_local_mean(vol_orig, (2, 4, 4))\n",
    "vol_orig = (vol_orig - vol_orig.min()) / (vol_orig.max() - vol_orig.min())\n",
    "\n",
    "vols_noisy: NDArray = np.stack(\n",
    "    [(vol_orig + 0.2 * np.random.randn(*vol_orig.shape)) for _ in tqdm(range(NUM_IMGS_TOT), desc=\"Create noisy images\")],\n",
    "    axis=0,\n",
    ")\n",
    "tst_inds = np.arange(NUM_IMGS_TRN, NUM_IMGS_TOT)\n",
    "\n",
    "print(f\"Img orig -> [{vol_orig.min()}, {vol_orig.max()}], Img noisy -> [{vols_noisy[0].min()}, {vols_noisy[0].max()}]\")\n",
    "print(f\"Img shape: {vol_orig.shape}\")\n",
    "\n",
    "central_slice = vol_orig.shape[0] // 2\n",
    "fig, axs = plt.subplots(1, 2, sharex=True, sharey=True, figsize=(8, 4))\n",
    "axs[0].imshow(vol_orig[central_slice])\n",
    "axs[1].imshow(vols_noisy[0][central_slice])\n",
    "fig.tight_layout()\n",
    "plt.show(block=False)"
   ]
  },
  {
   "cell_type": "markdown",
   "metadata": {},
   "source": [
    "## Performing training and prediction\n",
    "\n",
    "### Creating the model"
   ]
  },
  {
   "cell_type": "code",
   "execution_count": null,
   "metadata": {},
   "outputs": [],
   "source": [
    "net_params = ad.NetworkParamsUNet(n_features=16, n_dims=3)\n",
    "model = net_params.get_model()"
   ]
  },
  {
   "cell_type": "markdown",
   "metadata": {},
   "source": [
    "### Training the same initial model with different algorithms"
   ]
  },
  {
   "cell_type": "code",
   "execution_count": null,
   "metadata": {},
   "outputs": [],
   "source": [
    "denoiser_sup = ad.Supervised(model=deepcopy(model), reg_val=REG_TV_VAL)\n",
    "denoiser_sup.train(vols_noisy, vol_orig, epochs=EPOCHS, tst_inds=tst_inds)"
   ]
  },
  {
   "cell_type": "code",
   "execution_count": null,
   "metadata": {},
   "outputs": [],
   "source": [
    "denoiser_n2v = ad.N2V(model=deepcopy(model), reg_val=REG_TV_VAL)\n",
    "denoiser_n2v.train(vols_noisy, epochs=EPOCHS, tst_inds=tst_inds)"
   ]
  },
  {
   "cell_type": "code",
   "execution_count": null,
   "metadata": {},
   "outputs": [],
   "source": [
    "denoiser_n2n = ad.N2N(model=deepcopy(model), reg_val=REG_TV_VAL)\n",
    "n2n_data = denoiser_n2n.prepare_data(vols_noisy)\n",
    "denoiser_n2n.train(*n2n_data, epochs=EPOCHS)"
   ]
  },
  {
   "cell_type": "code",
   "execution_count": null,
   "metadata": {},
   "outputs": [],
   "source": [
    "denoiser_dip = ad.DIP(model=deepcopy(model), reg_val=REG_TV_VAL * 5)\n",
    "dip_data = denoiser_dip.prepare_data(vols_noisy)\n",
    "denoiser_dip.train(*dip_data, epochs=EPOCHS)"
   ]
  },
  {
   "cell_type": "markdown",
   "metadata": {},
   "source": [
    "### Getting the predictions"
   ]
  },
  {
   "cell_type": "code",
   "execution_count": null,
   "metadata": {},
   "outputs": [],
   "source": [
    "den_sup = denoiser_sup.infer(vols_noisy).mean(0)\n",
    "den_n2v = denoiser_n2v.infer(vols_noisy).mean(0)\n",
    "den_n2n = denoiser_n2n.infer(n2n_data[0])\n",
    "den_dip = denoiser_dip.infer(dip_data[0])"
   ]
  },
  {
   "cell_type": "code",
   "execution_count": null,
   "metadata": {},
   "outputs": [],
   "source": [
    "fig, axs = plt.subplots(2, 3, sharex=True, sharey=True)\n",
    "axs[0, 0].imshow(vol_orig[central_slice])\n",
    "axs[0, 0].set_title(\"Original image\")\n",
    "axs[0, 1].imshow(vols_noisy[0][central_slice])\n",
    "axs[0, 1].set_title(\"Noisy image\")\n",
    "axs[0, 2].imshow(den_sup[central_slice])\n",
    "axs[0, 2].set_title(\"Denoised supervised\")\n",
    "axs[1, 0].imshow(den_n2v[central_slice])\n",
    "axs[1, 0].set_title(\"Denoised N2V\")\n",
    "axs[1, 1].imshow(den_n2n[central_slice])\n",
    "axs[1, 1].set_title(\"Denoised N2N\")\n",
    "axs[1, 2].imshow(den_dip[central_slice])\n",
    "axs[1, 2].set_title(\"Denoised DIP\")\n",
    "fig.tight_layout()\n",
    "plt.show(block=False)"
   ]
  },
  {
   "cell_type": "code",
   "execution_count": null,
   "metadata": {},
   "outputs": [],
   "source": [
    "from corrct.processing.post import plot_frcs\n",
    "from skimage.metrics import peak_signal_noise_ratio as psnr\n",
    "from skimage.metrics import structural_similarity as ssim\n",
    "\n",
    "all_recs = [den_sup, den_n2v, den_n2n, den_dip]\n",
    "all_labs = [\"Supervised\", \"Noise2Void\", \"Noise2Noise\", \"Deep Image Prior\"]\n",
    "\n",
    "data_range = vol_orig.max() - vol_orig.min()\n",
    "print(\"PSNR:\")\n",
    "for rec, lab in zip(all_recs, all_labs):\n",
    "    print(f\"- {lab}: {psnr(vol_orig, rec, data_range=data_range):.3}\")\n",
    "print(\"SSIM:\")\n",
    "for rec, lab in zip(all_recs, all_labs):\n",
    "    print(f\"- {lab}: {ssim(vol_orig, rec, data_range=data_range):.3}\")\n",
    "\n",
    "plot_frcs([(vol_orig.astype(np.float32), rec) for rec in all_recs], all_labs)"
   ]
  }
 ],
 "metadata": {
  "kernelspec": {
   "display_name": "tomography",
   "language": "python",
   "name": "python3"
  },
  "language_info": {
   "codemirror_mode": {
    "name": "ipython",
    "version": 3
   },
   "file_extension": ".py",
   "mimetype": "text/x-python",
   "name": "python",
   "nbconvert_exporter": "python",
   "pygments_lexer": "ipython3",
   "version": "3.11.9"
  }
 },
 "nbformat": 4,
 "nbformat_minor": 2
}
